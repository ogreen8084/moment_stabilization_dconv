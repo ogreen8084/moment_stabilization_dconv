{
 "cells": [
  {
   "cell_type": "markdown",
   "metadata": {
    "collapsed": true,
    "deletable": true,
    "editable": true
   },
   "source": [
    "This is a Convolutional GAN with \"moment stabilization\" based off of the \"Intro to GANs\" Lesson from the Udacity Deep Learning Foundations Nanodegree: https://github.com/udacity/deep-learning/blob/master/gan_mnist/Intro_to_GANs_Solution.ipynb. "
   ]
  },
  {
   "cell_type": "code",
   "execution_count": 1,
   "metadata": {
    "collapsed": false,
    "deletable": true,
    "editable": true
   },
   "outputs": [],
   "source": [
    "%matplotlib inline\n",
    "import pickle as pkl\n",
    "import numpy as np\n",
    "import tensorflow as tf\n",
    "import matplotlib.pyplot as plt"
   ]
  },
  {
   "cell_type": "code",
   "execution_count": 2,
   "metadata": {
    "collapsed": false,
    "deletable": true,
    "editable": true
   },
   "outputs": [
    {
     "name": "stdout",
     "output_type": "stream",
     "text": [
      "Extracting MNIST_data/train-images-idx3-ubyte.gz\n",
      "Extracting MNIST_data/train-labels-idx1-ubyte.gz\n",
      "Extracting MNIST_data/t10k-images-idx3-ubyte.gz\n",
      "Extracting MNIST_data/t10k-labels-idx1-ubyte.gz\n"
     ]
    }
   ],
   "source": [
    "from tensorflow.examples.tutorials.mnist import input_data\n",
    "mnist = input_data.read_data_sets('MNIST_data')"
   ]
  },
  {
   "cell_type": "code",
   "execution_count": 3,
   "metadata": {
    "collapsed": true,
    "deletable": true,
    "editable": true
   },
   "outputs": [],
   "source": [
    "def model_inputs(image_width, image_height, image_channels, z_dim):\n",
    "\n",
    "    real_input = tf.placeholder(tf.float32, [None, image_width, image_height, image_channels])\n",
    "    Z = tf.placeholder(tf.float32, [None, z_dim])\n",
    "    \n",
    "    return real_input, Z"
   ]
  },
  {
   "cell_type": "code",
   "execution_count": 4,
   "metadata": {
    "collapsed": true,
    "deletable": true,
    "editable": true
   },
   "outputs": [],
   "source": [
    "def generator(z, out_channel_dim, is_train=True, alpha=0.2):\n",
    "    reuse_ = not is_train\n",
    "    with tf.variable_scope('generator', reuse=reuse_):\n",
    "        # TODO: Implement Function\n",
    "        h0 = tf.layers.dense(z, 1024, kernel_initializer=tf.contrib.layers.xavier_initializer(), bias_initializer=tf.constant_initializer(0.1))\n",
    "        h0 = tf.layers.batch_normalization(h0, training=is_train)\n",
    "        h0 = tf.maximum(alpha * h0, h0)\n",
    "        h1 = tf.layers.dense(h0, 7*7*256, kernel_initializer=tf.contrib.layers.xavier_initializer(), bias_initializer=tf.constant_initializer(0.1))\n",
    "        h1 = tf.reshape(h1, (-1, 7, 7 ,256))\n",
    "        h1 = tf.layers.batch_normalization(h1, training=is_train)\n",
    "        h1 = tf.maximum(alpha * h1, h1)\n",
    "        h2 = tf.layers.conv2d_transpose(h1, 32, 3, strides=2, padding='SAME', kernel_initializer=tf.contrib.layers.xavier_initializer(), bias_initializer=tf.constant_initializer(0.1))\n",
    "        h2 = tf.layers.batch_normalization(h2, training=is_train)\n",
    "        h2 = tf.maximum(alpha * h2, h2)\n",
    "        logits = tf.layers.conv2d_transpose(h2, out_channel_dim, 3, strides=2, padding='SAME', kernel_initializer=tf.contrib.layers.xavier_initializer(), bias_initializer=tf.constant_initializer(0.1))\n",
    "        out = tf.tanh(logits)\n",
    "        return out, logits"
   ]
  },
  {
   "cell_type": "code",
   "execution_count": 5,
   "metadata": {
    "collapsed": true,
    "deletable": true,
    "editable": true
   },
   "outputs": [],
   "source": [
    "def discriminator(images, reuse=False, alpha=0.2):\n",
    "    h_dim = 28\n",
    "    w_dim = 28\n",
    "    with tf.variable_scope('discriminator', reuse=reuse):\n",
    "        h1 = tf.layers.conv2d(images, 32, 3, strides=2, padding='SAME', kernel_initializer=tf.contrib.layers.xavier_initializer(), bias_initializer=tf.constant_initializer(0.1))\n",
    "        h1 = tf.layers.batch_normalization(h1, training=True)\n",
    "        h1 = tf.maximum(alpha * h1, h1)\n",
    "        \n",
    "        h2 = tf.layers.conv2d(h1, 256, 3, strides=2, padding='SAME' , kernel_initializer=tf.contrib.layers.xavier_initializer(), bias_initializer=tf.constant_initializer(0.1))\n",
    "        h2 = tf.layers.batch_normalization(h2, training=True)\n",
    "        h2 = tf.maximum(alpha * h2, h2)\n",
    "        \n",
    "        \n",
    "        flat = tf.reshape(h2, (-1, 7*7*256))\n",
    "        flat = tf.nn.dropout(flat, 0.5)\n",
    "        logits = tf.layers.dense(flat, 1 , kernel_initializer=tf.contrib.layers.xavier_initializer(), bias_initializer=tf.constant_initializer(0.1))\n",
    "        out = tf.sigmoid(logits)\n",
    "\n",
    "        return out, logits"
   ]
  },
  {
   "cell_type": "markdown",
   "metadata": {
    "deletable": true,
    "editable": true
   },
   "source": [
    "<h2>Hyperparameters</h2>"
   ]
  },
  {
   "cell_type": "code",
   "execution_count": 6,
   "metadata": {
    "collapsed": true,
    "deletable": true,
    "editable": true
   },
   "outputs": [],
   "source": [
    "input_size = 784\n",
    "z_dim = 100\n",
    "smooth = 0.1\n",
    "out_channel_dim = 1\n",
    "h_dim = 28\n",
    "w_dim = 28\n",
    "learning_rate = 0.001\n",
    "beta1 = 0.1\n",
    "batch_size = 100\n",
    "epochs = 20"
   ]
  },
  {
   "cell_type": "markdown",
   "metadata": {
    "deletable": true,
    "editable": true
   },
   "source": [
    "<h2>Moments</h2>\n",
    "We multiply the moments by 0.1 to keep them roughly in line with the original generator loss."
   ]
  },
  {
   "cell_type": "code",
   "execution_count": 7,
   "metadata": {
    "collapsed": false,
    "deletable": true,
    "editable": true,
    "scrolled": false
   },
   "outputs": [],
   "source": [
    "tf.reset_default_graph()\n",
    "input_real, input_z = model_inputs(w_dim, h_dim, out_channel_dim, z_dim)\n",
    "\n",
    "g_model, g_logits = generator(input_z, out_channel_dim)\n",
    "d_model_real, d_logits_real = discriminator(input_real)\n",
    "d_model_fake, d_logits_fake = discriminator(g_model, reuse=True)"
   ]
  },
  {
   "cell_type": "code",
   "execution_count": 8,
   "metadata": {
    "collapsed": true,
    "deletable": true,
    "editable": true
   },
   "outputs": [],
   "source": [
    "g_mean, g_var = tf.nn.moments(g_model, axes=[0])\n",
    "d_mean, d_var = tf.nn.moments(input_real, axes=[0])\n",
    "\n",
    "mean_diff = 0.1 * tf.reduce_sum(tf.abs(g_mean - d_mean))\n",
    "var_diff = 0.1 * tf.reduce_sum(tf.abs(g_var - d_var))\n"
   ]
  },
  {
   "cell_type": "markdown",
   "metadata": {
    "deletable": true,
    "editable": true
   },
   "source": [
    "<h2>Modified Loss Function</h2>"
   ]
  },
  {
   "cell_type": "code",
   "execution_count": 9,
   "metadata": {
    "collapsed": true,
    "deletable": true,
    "editable": true
   },
   "outputs": [],
   "source": [
    "d_loss_real = tf.reduce_mean(\n",
    "    tf.nn.sigmoid_cross_entropy_with_logits(logits=d_logits_real, labels=tf.ones_like(d_model_real) * (1 - smooth))) \n",
    "d_loss_fake = tf.reduce_mean(\n",
    "    tf.nn.sigmoid_cross_entropy_with_logits(logits=d_logits_fake, labels=tf.zeros_like(d_model_fake)))\n",
    "g_loss = tf.reduce_mean(\n",
    "    tf.nn.sigmoid_cross_entropy_with_logits(logits=d_logits_fake, labels=tf.ones_like(d_model_fake))) + (var_diff + mean_diff)\n",
    "\n",
    "d_loss = d_loss_real + d_loss_fake"
   ]
  },
  {
   "cell_type": "code",
   "execution_count": 10,
   "metadata": {
    "collapsed": false,
    "deletable": true,
    "editable": true
   },
   "outputs": [],
   "source": [
    "t_vars = tf.trainable_variables()\n",
    "d_vars = [var for var in t_vars if var.name.startswith('discrim')]\n",
    "g_vars = [var for var in t_vars if var.name.startswith('gener')]\n",
    "with tf.control_dependencies(tf.get_collection(tf.GraphKeys.UPDATE_OPS)): \n",
    "    g_train_opt = tf.train.AdamOptimizer().minimize(g_loss, var_list=g_vars)\n",
    "\n",
    "d_train_opt = tf.train.AdamOptimizer().minimize(d_loss, var_list=d_vars)"
   ]
  },
  {
   "cell_type": "code",
   "execution_count": 11,
   "metadata": {
    "collapsed": false,
    "deletable": true,
    "editable": true
   },
   "outputs": [
    {
     "name": "stdout",
     "output_type": "stream",
     "text": [
      "mkdir: cannot create directory ‘checkpoints’: File exists\r\n"
     ]
    }
   ],
   "source": [
    "!mkdir checkpoints"
   ]
  },
  {
   "cell_type": "code",
   "execution_count": 12,
   "metadata": {
    "collapsed": false,
    "deletable": true,
    "editable": true,
    "scrolled": false
   },
   "outputs": [
    {
     "name": "stdout",
     "output_type": "stream",
     "text": [
      "Epoch 1/20... Discriminator Loss: 1.0820... Generator Loss: 16.9767\n",
      "Var_diff: 7.13482 Mean_diff: 8.18391\n",
      "Epoch 2/20... Discriminator Loss: 0.5586... Generator Loss: 10.5382\n",
      "Var_diff: 3.50755 Mean_diff: 3.84228\n",
      "Epoch 3/20... Discriminator Loss: 0.7506... Generator Loss: 10.1450\n",
      "Var_diff: 3.0267 Mean_diff: 3.67573\n",
      "Epoch 4/20... Discriminator Loss: 1.0612... Generator Loss: 8.5406\n",
      "Var_diff: 3.23827 Mean_diff: 3.44333\n",
      "Epoch 5/20... Discriminator Loss: 1.0182... Generator Loss: 8.2802\n",
      "Var_diff: 3.00475 Mean_diff: 3.58406\n",
      "Epoch 6/20... Discriminator Loss: 0.8137... Generator Loss: 8.2243\n",
      "Var_diff: 2.75744 Mean_diff: 3.21467\n",
      "Epoch 7/20... Discriminator Loss: 0.8985... Generator Loss: 8.8288\n",
      "Var_diff: 2.87717 Mean_diff: 2.98845\n",
      "Epoch 8/20... Discriminator Loss: 0.9091... Generator Loss: 7.4016\n",
      "Var_diff: 2.80822 Mean_diff: 2.79931\n",
      "Epoch 9/20... Discriminator Loss: 0.8373... Generator Loss: 7.3455\n",
      "Var_diff: 2.80892 Mean_diff: 2.74551\n",
      "Epoch 10/20... Discriminator Loss: 1.2703... Generator Loss: 7.8662\n",
      "Var_diff: 2.87951 Mean_diff: 2.94275\n",
      "Epoch 11/20... Discriminator Loss: 1.0360... Generator Loss: 8.2891\n",
      "Var_diff: 3.15707 Mean_diff: 3.29136\n",
      "Epoch 12/20... Discriminator Loss: 1.1047... Generator Loss: 8.8815\n",
      "Var_diff: 3.19886 Mean_diff: 3.48354\n",
      "Epoch 13/20... Discriminator Loss: 1.1537... Generator Loss: 7.9955\n",
      "Var_diff: 2.90082 Mean_diff: 3.30819\n",
      "Epoch 14/20... Discriminator Loss: 0.9753... Generator Loss: 8.0387\n",
      "Var_diff: 2.79967 Mean_diff: 2.99572\n",
      "Epoch 15/20... Discriminator Loss: 0.8188... Generator Loss: 8.1646\n",
      "Var_diff: 2.82964 Mean_diff: 3.09995\n",
      "Epoch 16/20... Discriminator Loss: 0.9047... Generator Loss: 7.6725\n",
      "Var_diff: 2.81718 Mean_diff: 3.17868\n",
      "Epoch 17/20... Discriminator Loss: 0.9350... Generator Loss: 7.8212\n",
      "Var_diff: 2.68716 Mean_diff: 2.98033\n",
      "Epoch 18/20... Discriminator Loss: 0.8227... Generator Loss: 8.5041\n",
      "Var_diff: 2.96369 Mean_diff: 3.27055\n",
      "Epoch 19/20... Discriminator Loss: 1.0442... Generator Loss: 8.8787\n",
      "Var_diff: 3.30842 Mean_diff: 3.48724\n",
      "Epoch 20/20... Discriminator Loss: 1.0123... Generator Loss: 7.8851\n",
      "Var_diff: 2.79482 Mean_diff: 3.17591\n"
     ]
    }
   ],
   "source": [
    "samples = []\n",
    "losses = []\n",
    "saver = tf.train.Saver(var_list=g_vars)\n",
    "with tf.Session() as sess:\n",
    "    sess.run(tf.global_variables_initializer())\n",
    "    for e in range(epochs):\n",
    "        for ii in range(mnist.train.num_examples//batch_size):\n",
    "            batch = mnist.train.next_batch(batch_size)\n",
    "            \n",
    "            batch_images = batch[0].reshape((batch_size, 28, 28, 1))\n",
    "            batch_images = (batch_images/1. - 0.5) * 2\n",
    "            \n",
    "            \n",
    "            batch_z = np.random.uniform(-1, 1, size=(batch_size, z_dim))          \n",
    "            _ = sess.run(d_train_opt, feed_dict={input_real: batch_images, input_z: batch_z})\n",
    "            _ = sess.run(g_train_opt, feed_dict={input_real: batch_images, input_z: batch_z})\n",
    "        \n",
    "        train_loss_g = g_loss.eval({input_z: batch_z, input_real: batch_images})\n",
    "        train_loss_d = sess.run(d_loss, {input_z: batch_z, input_real: batch_images})\n",
    "            \n",
    "        print(\"Epoch {}/{}...\".format(e+1, epochs),\n",
    "              \"Discriminator Loss: {:.4f}...\".format(train_loss_d),\n",
    "              \"Generator Loss: {:.4f}\".format(train_loss_g)) \n",
    "        var_diff1 = var_diff.eval(session=sess, feed_dict={input_real: batch_images, input_z: batch_z})\n",
    "        mean_diff1 = mean_diff.eval(session=sess, feed_dict={input_real: batch_images, input_z: batch_z})\n",
    "        print('Var_diff: ' +str(var_diff1) + ' Mean_diff: ' +str(mean_diff1))\n",
    "        losses.append((train_loss_d, train_loss_g))\n",
    "        sample_z = np.random.uniform(-1, 1, size=(16, z_dim))\n",
    "        gen_samples, _ = sess.run(\n",
    "                       generator(input_z, out_channel_dim, is_train=False),\n",
    "                       feed_dict={input_z: sample_z})\n",
    "        samples.append(gen_samples)\n",
    "        saver.save(sess, './checkpoints/generator.ckpt')\n",
    "\n",
    "with open('train_samples.pkl', 'wb') as f:\n",
    "    pkl.dump(samples, f)"
   ]
  },
  {
   "cell_type": "code",
   "execution_count": 13,
   "metadata": {
    "collapsed": false,
    "deletable": true,
    "editable": true
   },
   "outputs": [
    {
     "data": {
      "image/png": "[encoded data removed]",
      "text/plain": [
       "<matplotlib.figure.Figure at 0x7f92b3da8e10>"
      ]
     },
     "metadata": {},
     "output_type": "display_data"
    }
   ],
   "source": [
    "rows, cols = 10, 6 \n",
    "fig, axes = plt.subplots(figsize=(7,12), nrows=rows, ncols=cols, sharex=True, sharey=True)\n",
    "\n",
    "for sample, ax_row in zip(samples[::int(len(samples)/rows)], axes):\n",
    "    for img, ax in zip(sample[::int(len(sample)/cols)], ax_row):\n",
    "        ax.imshow(img.reshape((28,28)), cmap='Greys_r')\n",
    "        ax.xaxis.set_visible(False)\n",
    "        ax.yaxis.set_visible(False)"
   ]
  },
  {
   "cell_type": "code",
   "execution_count": null,
   "metadata": {
    "collapsed": true,
    "deletable": true,
    "editable": true
   },
   "outputs": [],
   "source": []
  }
 ],
 "metadata": {
  "kernelspec": {
   "display_name": "Python 3",
   "language": "python",
   "name": "python3"
  },
  "language_info": {
   "codemirror_mode": {
    "name": "ipython",
    "version": 3
   },
   "file_extension": ".py",
   "mimetype": "text/x-python",
   "name": "python",
   "nbconvert_exporter": "python",
   "pygments_lexer": "ipython3",
   "version": "3.5.1"
  }
 },
 "nbformat": 4,
 "nbformat_minor": 2
}
